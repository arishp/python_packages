{
 "cells": [
  {
   "cell_type": "code",
   "execution_count": 1,
   "metadata": {},
   "outputs": [
    {
     "name": "stdout",
     "output_type": "stream",
     "text": [
      "1D Array: [1 2 3 4 5]\n"
     ]
    }
   ],
   "source": [
    "import numpy as np\n",
    "# creating numpy arrays\n",
    "\n",
    "# Creating a 1D array\n",
    "arr1d = np.array([1, 2, 3, 4, 5])\n",
    "print(\"1D Array:\", arr1d)"
   ]
  },
  {
   "cell_type": "code",
   "execution_count": 2,
   "metadata": {},
   "outputs": [
    {
     "name": "stdout",
     "output_type": "stream",
     "text": [
      "2D Array:\n",
      " [[1 2 3]\n",
      " [4 5 6]]\n"
     ]
    }
   ],
   "source": [
    "# Creating a 2D array\n",
    "arr2d = np.array([[1, 2, 3], [4, 5, 6]])\n",
    "print(\"2D Array:\\n\", arr2d)"
   ]
  },
  {
   "cell_type": "code",
   "execution_count": 3,
   "metadata": {},
   "outputs": [
    {
     "name": "stdout",
     "output_type": "stream",
     "text": [
      "Zeros Array:\n",
      " [[0. 0. 0. 0.]\n",
      " [0. 0. 0. 0.]\n",
      " [0. 0. 0. 0.]]\n"
     ]
    }
   ],
   "source": [
    "# Creating an array filled with zeros\n",
    "zeros_arr = np.zeros((3, 4))  # 3 rows, 4 columns\n",
    "print(\"Zeros Array:\\n\", zeros_arr)"
   ]
  },
  {
   "cell_type": "code",
   "execution_count": 4,
   "metadata": {},
   "outputs": [
    {
     "name": "stdout",
     "output_type": "stream",
     "text": [
      "Ones Array:\n",
      " [[1. 1.]\n",
      " [1. 1.]]\n"
     ]
    }
   ],
   "source": [
    "# Creating an array filled with ones\n",
    "ones_arr = np.ones((2, 2))\n",
    "print(\"Ones Array:\\n\", ones_arr)"
   ]
  },
  {
   "cell_type": "code",
   "execution_count": 5,
   "metadata": {},
   "outputs": [
    {
     "name": "stdout",
     "output_type": "stream",
     "text": [
      "Range Array: [0 2 4 6 8]\n"
     ]
    }
   ],
   "source": [
    "# Creating an array with a range of values\n",
    "range_arr = np.arange(0, 10, 2)  # Start, stop, step\n",
    "print(\"Range Array:\", range_arr)"
   ]
  },
  {
   "cell_type": "code",
   "execution_count": 6,
   "metadata": {},
   "outputs": [
    {
     "name": "stdout",
     "output_type": "stream",
     "text": [
      "Linspace Array: [0.   0.25 0.5  0.75 1.  ]\n"
     ]
    }
   ],
   "source": [
    "# Creating an array with evenly spaced values\n",
    "linspace_arr = np.linspace(0, 1, 5)  # Start, stop, number of points\n",
    "print(\"Linspace Array:\", linspace_arr)"
   ]
  },
  {
   "cell_type": "code",
   "execution_count": 7,
   "metadata": {},
   "outputs": [],
   "source": [
    "# array indexing and slicing\n",
    "arr = np.array([[10, 20, 30], [40, 50, 60], [70, 80, 90]])"
   ]
  },
  {
   "cell_type": "code",
   "execution_count": 8,
   "metadata": {},
   "outputs": [
    {
     "name": "stdout",
     "output_type": "stream",
     "text": [
      "Element at [0, 1]: 20\n"
     ]
    }
   ],
   "source": [
    "\n",
    "# Accessing elements\n",
    "print(\"Element at [0, 1]:\", arr[0, 1])  # Row 0, column 1\n"
   ]
  },
  {
   "cell_type": "code",
   "execution_count": 9,
   "metadata": {},
   "outputs": [
    {
     "name": "stdout",
     "output_type": "stream",
     "text": [
      "Row 1: [40 50 60]\n"
     ]
    }
   ],
   "source": [
    "\n",
    "# Slicing rows\n",
    "print(\"Row 1:\", arr[1, :])\n"
   ]
  },
  {
   "cell_type": "code",
   "execution_count": 10,
   "metadata": {},
   "outputs": [
    {
     "name": "stdout",
     "output_type": "stream",
     "text": [
      "Column 2: [30 60 90]\n"
     ]
    }
   ],
   "source": [
    "\n",
    "# Slicing columns\n",
    "print(\"Column 2:\", arr[:, 2])\n"
   ]
  },
  {
   "cell_type": "code",
   "execution_count": 11,
   "metadata": {},
   "outputs": [
    {
     "name": "stdout",
     "output_type": "stream",
     "text": [
      "Sub-array:\n",
      " [[40 50]\n",
      " [70 80]]\n"
     ]
    }
   ],
   "source": [
    "\n",
    "# Slicing a sub-array\n",
    "print(\"Sub-array:\\n\", arr[1:3, 0:2])"
   ]
  },
  {
   "cell_type": "code",
   "execution_count": 12,
   "metadata": {},
   "outputs": [
    {
     "name": "stdout",
     "output_type": "stream",
     "text": [
      "Addition: [5 7 9]\n",
      "Multiplication: [ 4 10 18]\n",
      "Scalar Multiplication: [2 4 6]\n",
      "Dot Product: 32\n",
      "Sum: 6\n",
      "Mean: 2.0\n",
      "Standard Deviation: 0.816496580927726\n"
     ]
    }
   ],
   "source": [
    "# array operations\n",
    "\n",
    "arr1 = np.array([1, 2, 3])\n",
    "arr2 = np.array([4, 5, 6])\n",
    "\n",
    "# Element-wise addition\n",
    "print(\"Addition:\", arr1 + arr2)\n",
    "\n",
    "# Element-wise multiplication\n",
    "print(\"Multiplication:\", arr1 * arr2)\n",
    "\n",
    "# Scalar multiplication\n",
    "print(\"Scalar Multiplication:\", arr1 * 2)\n",
    "\n",
    "# Dot product\n",
    "print(\"Dot Product:\", np.dot(arr1, arr2))\n",
    "\n",
    "# Sum of all elements\n",
    "print(\"Sum:\", np.sum(arr1))\n",
    "\n",
    "# Mean of all elements\n",
    "print(\"Mean:\", np.mean(arr1))\n",
    "\n",
    "# Standard deviation\n",
    "print(\"Standard Deviation:\", np.std(arr1))"
   ]
  },
  {
   "cell_type": "code",
   "execution_count": 13,
   "metadata": {},
   "outputs": [
    {
     "name": "stdout",
     "output_type": "stream",
     "text": [
      "Reshaped Array:\n",
      " [[1 2 3]\n",
      " [4 5 6]\n",
      " [7 8 9]]\n",
      "Transposed Array:\n",
      " [[1 4 7]\n",
      " [2 5 8]\n",
      " [3 6 9]]\n"
     ]
    }
   ],
   "source": [
    "import numpy as np\n",
    "\n",
    "arr = np.arange(1, 10)\n",
    "\n",
    "# Reshaping\n",
    "reshaped_arr = arr.reshape((3, 3))\n",
    "print(\"Reshaped Array:\\n\", reshaped_arr)\n",
    "\n",
    "# Transposing\n",
    "transposed_arr = reshaped_arr.T\n",
    "print(\"Transposed Array:\\n\", transposed_arr)"
   ]
  },
  {
   "cell_type": "code",
   "execution_count": 13,
   "metadata": {},
   "outputs": [
    {
     "name": "stdout",
     "output_type": "stream",
     "text": [
      "Random Uniform:\n",
      " [[0.88464225 0.37306611 0.67064503]\n",
      " [0.79370562 0.93717092 0.93317189]]\n",
      "Random Normal:\n",
      " [[ 0.96890719  0.73386191  0.22310314]\n",
      " [ 1.31587755 -0.79666198 -0.25057913]]\n",
      "Random Integers:\n",
      " [[5 8 8]\n",
      " [5 8 0]\n",
      " [8 0 5]]\n"
     ]
    }
   ],
   "source": [
    "# random number generation\n",
    "\n",
    "import numpy as np\n",
    "\n",
    "# Random numbers from a uniform distribution\n",
    "random_uniform = np.random.rand(2, 3)\n",
    "print(\"Random Uniform:\\n\", random_uniform)\n",
    "\n",
    "# Random numbers from a normal distribution\n",
    "random_normal = np.random.randn(2, 3)\n",
    "print(\"Random Normal:\\n\", random_normal)\n",
    "\n",
    "# Random integers\n",
    "random_integers = np.random.randint(0, 10, (3, 3))\n",
    "print(\"Random Integers:\\n\", random_integers)"
   ]
  },
  {
   "cell_type": "code",
   "execution_count": 2,
   "metadata": {},
   "outputs": [
    {
     "name": "stdout",
     "output_type": "stream",
     "text": [
      "Height = 1024, Width = 990\n"
     ]
    }
   ],
   "source": [
    "#opencv \n",
    "# Importing the OpenCV library\n",
    "import cv2\n",
    "# Reading the image using imread() function\n",
    "image = cv2.imread('/Users/apitchai002/Documents/Clones/python_packages/data/Arish_p_low_res.jpeg')\n",
    "\n",
    "# Extracting the height and width of an image\n",
    "h, w = image.shape[:2]\n",
    "# Displaying the height and width\n",
    "print(\"Height = {}, Width = {}\".format(h, w))\n"
   ]
  },
  {
   "cell_type": "code",
   "execution_count": 15,
   "metadata": {},
   "outputs": [
    {
     "name": "stdout",
     "output_type": "stream",
     "text": [
      "R = 228, G = 227, B = 232\n",
      "B = 232\n"
     ]
    }
   ],
   "source": [
    "# Extracting RGB values.\n",
    "# Here we have randomly chosen a pixel\n",
    "# by passing in 100, 100 for height and width.\n",
    "(B, G, R) = image[100, 100]\n",
    "\n",
    "# Displaying the pixel values\n",
    "print(\"R = {}, G = {}, B = {}\".format(R, G, B))\n",
    "\n",
    "# We can also pass the channel to extract\n",
    "# the value for a specific channel\n",
    "B = image[100, 100, 0]\n",
    "print(\"B = {}\".format(B))"
   ]
  },
  {
   "cell_type": "code",
   "execution_count": null,
   "metadata": {},
   "outputs": [
    {
     "name": "stderr",
     "output_type": "stream",
     "text": [
      "2025-03-15 08:10:09.634 Python[80183:14694313] +[IMKClient subclass]: chose IMKClient_Modern\n",
      "2025-03-15 08:10:09.634 Python[80183:14694313] +[IMKInputSession subclass]: chose IMKInputSession_Modern\n"
     ]
    }
   ],
   "source": [
    "# We will calculate the region of interest\n",
    "# by slicing the pixels of the image\n",
    "roi = image[100 : 500, 200 : 700]\n",
    "cv2.imshow(\"ROI\", roi)\n",
    "cv2.waitKey(0)"
   ]
  },
  {
   "cell_type": "code",
   "execution_count": null,
   "metadata": {},
   "outputs": [],
   "source": [
    "# pillow package\n",
    "from PIL import Image\n",
    "\n",
    "\n",
    "# Location of the image\n",
    "img = Image.open(\"/Users/apitchai002/Documents/Clones/python_packages/data/Arish_p_low_res.jpeg\")\n",
    "\n",
    "img.show()\n"
   ]
  },
  {
   "cell_type": "code",
   "execution_count": 3,
   "metadata": {},
   "outputs": [
    {
     "name": "stdout",
     "output_type": "stream",
     "text": [
      "(990, 1024)\n",
      "JPEG\n"
     ]
    }
   ],
   "source": [
    "\n",
    "# size of the image\n",
    "print(img.size)\n",
    "\n",
    "# format of the image\n",
    "print(img.format)\n"
   ]
  },
  {
   "cell_type": "code",
   "execution_count": 4,
   "metadata": {},
   "outputs": [
    {
     "name": "stdout",
     "output_type": "stream",
     "text": [
      "RGB\n"
     ]
    }
   ],
   "source": [
    "\n",
    "# mode of the image\n",
    "print(img.mode)\n"
   ]
  },
  {
   "cell_type": "code",
   "execution_count": 5,
   "metadata": {},
   "outputs": [],
   "source": [
    "import PIL\n",
    "\n",
    "\n",
    "# rotating a image 90 deg counter clockwise\n",
    "img = img.rotate(90, PIL.Image.NEAREST, expand = 1)\n",
    "\n",
    "# to show specified image\n",
    "img.show()\n"
   ]
  },
  {
   "cell_type": "code",
   "execution_count": null,
   "metadata": {},
   "outputs": [],
   "source": []
  }
 ],
 "metadata": {
  "kernelspec": {
   "display_name": ".venv",
   "language": "python",
   "name": "python3"
  },
  "language_info": {
   "codemirror_mode": {
    "name": "ipython",
    "version": 3
   },
   "file_extension": ".py",
   "mimetype": "text/x-python",
   "name": "python",
   "nbconvert_exporter": "python",
   "pygments_lexer": "ipython3",
   "version": "3.10.9"
  }
 },
 "nbformat": 4,
 "nbformat_minor": 2
}
